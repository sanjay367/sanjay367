{
  "nbformat": 4,
  "nbformat_minor": 0,
  "metadata": {
    "colab": {
      "name": "Untitled10.ipynb",
      "provenance": [],
      "authorship_tag": "ABX9TyPrOGK3Xx+bstoHe1Slm4Kd",
      "include_colab_link": true
    },
    "kernelspec": {
      "name": "python3",
      "display_name": "Python 3"
    },
    "language_info": {
      "name": "python"
    }
  },
  "cells": [
    {
      "cell_type": "markdown",
      "metadata": {
        "id": "view-in-github",
        "colab_type": "text"
      },
      "source": [
        "<a href=\"https://colab.research.google.com/github/sanjay367/sanjay367/blob/main/sanjaypython2.ipynb\" target=\"_parent\"><img src=\"https://colab.research.google.com/assets/colab-badge.svg\" alt=\"Open In Colab\"/></a>"
      ]
    },
    {
      "cell_type": "code",
      "execution_count": 1,
      "metadata": {
        "colab": {
          "base_uri": "https://localhost:8080/"
        },
        "id": "lz0n25zeceKL",
        "outputId": "5200f2ce-4257-4ecf-b8bb-38f5ede6af13"
      },
      "outputs": [
        {
          "output_type": "stream",
          "name": "stdout",
          "text": [
            "enter first number45\n",
            "enter second number84\n",
            "45 + 84 = (45, 84)\n"
          ]
        }
      ],
      "source": [
        "value1=eval(input('enter first number'))\n",
        "value2=eval(input('enter second number'))\n",
        "sum=value1,value2\n",
        "print( value1,'+',value2, '=',sum)"
      ]
    },
    {
      "cell_type": "code",
      "source": [
        "x=20\n",
        "y=30\n",
        "x+y"
      ],
      "metadata": {
        "colab": {
          "base_uri": "https://localhost:8080/"
        },
        "id": "8xmUfM6JctxW",
        "outputId": "64d776ac-d3fc-41e7-ab6a-56ca02d392c0"
      },
      "execution_count": 2,
      "outputs": [
        {
          "output_type": "execute_result",
          "data": {
            "text/plain": [
              "50"
            ]
          },
          "metadata": {},
          "execution_count": 2
        }
      ]
    },
    {
      "cell_type": "code",
      "source": [
        "x=\"10\"\n",
        "y=\"20\"\n",
        "x+y"
      ],
      "metadata": {
        "colab": {
          "base_uri": "https://localhost:8080/",
          "height": 35
        },
        "id": "XYfKLiCBc23N",
        "outputId": "0d8e63b3-998c-4ba6-e06b-2c135789bd34"
      },
      "execution_count": 3,
      "outputs": [
        {
          "output_type": "execute_result",
          "data": {
            "text/plain": [
              "'1020'"
            ],
            "application/vnd.google.colaboratory.intrinsic+json": {
              "type": "string"
            }
          },
          "metadata": {},
          "execution_count": 3
        }
      ]
    },
    {
      "cell_type": "code",
      "source": [
        "x=10\n",
        "y=10\n",
        "x-y"
      ],
      "metadata": {
        "colab": {
          "base_uri": "https://localhost:8080/"
        },
        "id": "ofcfE8DrdA9L",
        "outputId": "93123bf6-82d0-4147-feda-ed5952c3483b"
      },
      "execution_count": 4,
      "outputs": [
        {
          "output_type": "execute_result",
          "data": {
            "text/plain": [
              "0"
            ]
          },
          "metadata": {},
          "execution_count": 4
        }
      ]
    },
    {
      "cell_type": "code",
      "source": [
        "x=10\n",
        "y=10\n",
        "x*y"
      ],
      "metadata": {
        "colab": {
          "base_uri": "https://localhost:8080/"
        },
        "id": "CyNvuE0YdNw9",
        "outputId": "934fcb04-f95d-495e-9d36-0c79bd176952"
      },
      "execution_count": 5,
      "outputs": [
        {
          "output_type": "execute_result",
          "data": {
            "text/plain": [
              "100"
            ]
          },
          "metadata": {},
          "execution_count": 5
        }
      ]
    },
    {
      "cell_type": "code",
      "source": [
        "x=\"10\"\n",
        "y=10\n",
        "x*y"
      ],
      "metadata": {
        "colab": {
          "base_uri": "https://localhost:8080/",
          "height": 35
        },
        "id": "QjH8wHgMdSod",
        "outputId": "c23fc516-dcb9-4355-be4b-c2ed4063d465"
      },
      "execution_count": 6,
      "outputs": [
        {
          "output_type": "execute_result",
          "data": {
            "text/plain": [
              "'10101010101010101010'"
            ],
            "application/vnd.google.colaboratory.intrinsic+json": {
              "type": "string"
            }
          },
          "metadata": {},
          "execution_count": 6
        }
      ]
    },
    {
      "cell_type": "code",
      "source": [
        "x=10\n",
        "y=\"10\"\n",
        "x*y"
      ],
      "metadata": {
        "colab": {
          "base_uri": "https://localhost:8080/",
          "height": 35
        },
        "id": "lZpnnjrPddKS",
        "outputId": "a2c582f8-2eff-4844-fdff-d254f38efc87"
      },
      "execution_count": 7,
      "outputs": [
        {
          "output_type": "execute_result",
          "data": {
            "text/plain": [
              "'10101010101010101010'"
            ],
            "application/vnd.google.colaboratory.intrinsic+json": {
              "type": "string"
            }
          },
          "metadata": {},
          "execution_count": 7
        }
      ]
    },
    {
      "cell_type": "code",
      "source": [
        "x=10\n",
        "y=10\n",
        "x//y"
      ],
      "metadata": {
        "colab": {
          "base_uri": "https://localhost:8080/"
        },
        "id": "-KZmTCNXdhu0",
        "outputId": "f913e990-8424-475d-852c-5623eded7a0b"
      },
      "execution_count": 8,
      "outputs": [
        {
          "output_type": "execute_result",
          "data": {
            "text/plain": [
              "1"
            ]
          },
          "metadata": {},
          "execution_count": 8
        }
      ]
    },
    {
      "cell_type": "code",
      "source": [
        "x=10\n",
        "y=10\n",
        "x/y"
      ],
      "metadata": {
        "colab": {
          "base_uri": "https://localhost:8080/"
        },
        "id": "ExEfboYDdmxl",
        "outputId": "229b9526-ee98-485f-85c1-3777f204878f"
      },
      "execution_count": 9,
      "outputs": [
        {
          "output_type": "execute_result",
          "data": {
            "text/plain": [
              "1.0"
            ]
          },
          "metadata": {},
          "execution_count": 9
        }
      ]
    },
    {
      "cell_type": "code",
      "source": [
        "x=10\n",
        "y=10\n",
        "x%y"
      ],
      "metadata": {
        "colab": {
          "base_uri": "https://localhost:8080/"
        },
        "id": "OlGbo7tkdpw9",
        "outputId": "afec5a7b-f725-46b2-e876-dfef3dd6a671"
      },
      "execution_count": 10,
      "outputs": [
        {
          "output_type": "execute_result",
          "data": {
            "text/plain": [
              "0"
            ]
          },
          "metadata": {},
          "execution_count": 10
        }
      ]
    },
    {
      "cell_type": "code",
      "source": [
        "x=10\n",
        "y=10\n",
        "x**y\n"
      ],
      "metadata": {
        "colab": {
          "base_uri": "https://localhost:8080/"
        },
        "id": "lvcYgwC1duSL",
        "outputId": "9fc1df67-515a-4c02-e4c0-215807a601b1"
      },
      "execution_count": 11,
      "outputs": [
        {
          "output_type": "execute_result",
          "data": {
            "text/plain": [
              "10000000000"
            ]
          },
          "metadata": {},
          "execution_count": 11
        }
      ]
    },
    {
      "cell_type": "code",
      "source": [
        "x=20\n",
        "y=10\n",
        "print('x+y=', x+y)\n",
        "print('x-y=', x-y)\n",
        "print('x*y=', x*y)\n",
        "print('x/y=', x/y)\n",
        "print('x//y=',x//y)\n",
        "print('x**y=',x**y)"
      ],
      "metadata": {
        "colab": {
          "base_uri": "https://localhost:8080/"
        },
        "id": "3eCvzEi7d0a8",
        "outputId": "cc07c3f9-fca9-4f00-bfea-3e8457354805"
      },
      "execution_count": 12,
      "outputs": [
        {
          "output_type": "stream",
          "name": "stdout",
          "text": [
            "x+y= 30\n",
            "x-y= 10\n",
            "x*y= 200\n",
            "x/y= 2.0\n",
            "x//y= 2\n",
            "x**y= 10240000000000\n"
          ]
        }
      ]
    },
    {
      "cell_type": "code",
      "source": [
        "x=20+20.5\n",
        "print(\"+ o[perator is evaluated=\",x)"
      ],
      "metadata": {
        "colab": {
          "base_uri": "https://localhost:8080/"
        },
        "id": "VMGsQCprd6DM",
        "outputId": "0abdf4e1-7f8a-4aeb-c7d4-e897f95bd43e"
      },
      "execution_count": 13,
      "outputs": [
        {
          "output_type": "stream",
          "name": "stdout",
          "text": [
            "+ o[perator is evaluated= 40.5\n"
          ]
        }
      ]
    },
    {
      "cell_type": "code",
      "source": [
        "x=200+20.0*5\n",
        "print(\"* operator is evaluated\",x)"
      ],
      "metadata": {
        "colab": {
          "base_uri": "https://localhost:8080/"
        },
        "id": "B3WlbgKoeAW1",
        "outputId": "c8ba9232-7ac3-4662-e0da-f9e1bd7f2e5a"
      },
      "execution_count": 15,
      "outputs": [
        {
          "output_type": "stream",
          "name": "stdout",
          "text": [
            "* operator is evaluated 300.0\n"
          ]
        }
      ]
    },
    {
      "cell_type": "code",
      "source": [
        "x=30+20/2*5\n",
        "print(\"/ operator is evaluated\", x)"
      ],
      "metadata": {
        "colab": {
          "base_uri": "https://localhost:8080/"
        },
        "id": "Jx9AM2y0eEhK",
        "outputId": "dd589f0d-294f-43a6-d2ee-77b2ae1f8284"
      },
      "execution_count": 16,
      "outputs": [
        {
          "output_type": "stream",
          "name": "stdout",
          "text": [
            "/ operator is evaluated 80.0\n"
          ]
        }
      ]
    },
    {
      "cell_type": "code",
      "source": [
        "x =100 * 5 +(10 % 2)** 1\n",
        "print(x)"
      ],
      "metadata": {
        "id": "jDbGPsSzeJeC",
        "outputId": "29994af6-47be-4efa-e71f-c5f00d476507",
        "colab": {
          "base_uri": "https://localhost:8080/"
        }
      },
      "execution_count": 17,
      "outputs": [
        {
          "output_type": "stream",
          "name": "stdout",
          "text": [
            "500\n"
          ]
        }
      ]
    },
    {
      "cell_type": "code",
      "source": [
        "x=10\n",
        "x+=1\n",
        "print(x)"
      ],
      "metadata": {
        "id": "421XCiNVeWP8",
        "outputId": "5a6bb158-7220-4651-c2e2-1dcecd1435ed",
        "colab": {
          "base_uri": "https://localhost:8080/"
        }
      },
      "execution_count": 18,
      "outputs": [
        {
          "output_type": "stream",
          "name": "stdout",
          "text": [
            "11\n"
          ]
        }
      ]
    },
    {
      "cell_type": "code",
      "source": [
        "x=10\n",
        "x-=1\n",
        "print(x)"
      ],
      "metadata": {
        "id": "Eof5ijZWeieT",
        "outputId": "c9ea6dda-25d5-4ede-b779-5e62bb7171b4",
        "colab": {
          "base_uri": "https://localhost:8080/"
        }
      },
      "execution_count": 19,
      "outputs": [
        {
          "output_type": "stream",
          "name": "stdout",
          "text": [
            "9\n"
          ]
        }
      ]
    },
    {
      "cell_type": "code",
      "source": [
        "x=5\n",
        "x*=5\n",
        "print(x)"
      ],
      "metadata": {
        "id": "dPWlauHPelLs",
        "outputId": "3274c2bd-f138-497c-d323-eb7ce9b6ecf3",
        "colab": {
          "base_uri": "https://localhost:8080/"
        }
      },
      "execution_count": 20,
      "outputs": [
        {
          "output_type": "stream",
          "name": "stdout",
          "text": [
            "25\n"
          ]
        }
      ]
    },
    {
      "cell_type": "code",
      "source": [
        "a = 10\n",
        "b =-10\n",
        "print(\"a >> 1 =\",a >> 1)\n",
        "print(\"b >> 1 =\",b >> 1)"
      ],
      "metadata": {
        "id": "Sz5gFz2Kgj2p",
        "outputId": "3e9d0988-79fc-4b40-dcfd-c24f83f7e6e3",
        "colab": {
          "base_uri": "https://localhost:8080/"
        }
      },
      "execution_count": 26,
      "outputs": [
        {
          "output_type": "stream",
          "name": "stdout",
          "text": [
            "a >> 1 = 5\n",
            "b >> 1 = -5\n"
          ]
        }
      ]
    },
    {
      "cell_type": "code",
      "source": [
        "a=10\n",
        "b=4\n",
        "print(\"-a =\",~a)"
      ],
      "metadata": {
        "id": "TeDcAGMQgoTT",
        "outputId": "fe574e53-cb49-4b21-96df-0bfb7bd4e333",
        "colab": {
          "base_uri": "https://localhost:8080/"
        }
      },
      "execution_count": 27,
      "outputs": [
        {
          "output_type": "stream",
          "name": "stdout",
          "text": [
            "-a = -11\n"
          ]
        }
      ]
    },
    {
      "cell_type": "code",
      "source": [
        "print(\"Fibonacci Series\")\n",
        "n1=input(\"Enter the number :\")\n",
        "n=int(n1)\n",
        "if (n>0):\n",
        "    f = 0\n",
        "    s = 1\n",
        "    i = 0\n",
        "    next = 0\n",
        "    while (1):\n",
        "        print(\"\\n\\n****************************************\")\n",
        "        for i in range (n+1):\n",
        "            if(i <= 1):\n",
        "               print(i)\n",
        "            else:\n",
        "                next = f + s\n",
        "                f = s\n",
        "                s = next\n",
        "                print (next)\n",
        "        i = i + 1\n",
        "        break    \n",
        "else:\n",
        "      print(\" you have entered wrong input\",n)"
      ],
      "metadata": {
        "id": "B0Sb8bXkgrX6",
        "outputId": "8391c585-b10e-4d96-fa8f-6975d8bd81f2",
        "colab": {
          "base_uri": "https://localhost:8080/"
        }
      },
      "execution_count": 28,
      "outputs": [
        {
          "output_type": "stream",
          "name": "stdout",
          "text": [
            "Fibonacci Series\n",
            "Enter the number :8\n",
            "\n",
            "\n",
            "****************************************\n",
            "0\n",
            "1\n",
            "1\n",
            "2\n",
            "3\n",
            "5\n",
            "8\n",
            "13\n",
            "21\n"
          ]
        }
      ]
    },
    {
      "cell_type": "code",
      "source": [
        "a = 10\n",
        "b = 4\n",
        "a|b\n",
        "print(a|b)"
      ],
      "metadata": {
        "id": "ZOu964l6hZdc",
        "outputId": "9ff922df-de94-44d7-ed94-377ed3be4892",
        "colab": {
          "base_uri": "https://localhost:8080/"
        }
      },
      "execution_count": 29,
      "outputs": [
        {
          "output_type": "stream",
          "name": "stdout",
          "text": [
            "14\n"
          ]
        }
      ]
    },
    {
      "cell_type": "code",
      "source": [
        "a = 10\n",
        "b = 4\n",
        "k=a & b\n",
        "print(k)"
      ],
      "metadata": {
        "id": "wOZnUPZFhkln",
        "outputId": "aa5b5b93-998b-4ca7-ed4e-0dc4a5566f04",
        "colab": {
          "base_uri": "https://localhost:8080/"
        }
      },
      "execution_count": 30,
      "outputs": [
        {
          "output_type": "stream",
          "name": "stdout",
          "text": [
            "0\n"
          ]
        }
      ]
    },
    {
      "cell_type": "code",
      "source": [
        "x = 'HELLO WORLD'\n",
        "y = {1:'a',2:'b'}\n",
        "print('H' in x)\n",
        "print('HELLO' not in x)\n",
        "print(1 in y)\n",
        "print('a' in y)"
      ],
      "metadata": {
        "id": "Mx9WV1Q5hqzA",
        "outputId": "8701dfa9-20a3-4cdd-e7bb-5b08f8311d89",
        "colab": {
          "base_uri": "https://localhost:8080/"
        }
      },
      "execution_count": 31,
      "outputs": [
        {
          "output_type": "stream",
          "name": "stdout",
          "text": [
            "True\n",
            "False\n",
            "True\n",
            "False\n"
          ]
        }
      ]
    },
    {
      "cell_type": "code",
      "source": [
        "x = True\n",
        "y = False\n",
        "print('x and y is',x and y)\n",
        "print('x or y is',x or y)\n",
        "print('not x is',not x)"
      ],
      "metadata": {
        "id": "sodBnVGlhxdL",
        "outputId": "6843e425-811d-4739-cb42-ca0f9fb5f99c",
        "colab": {
          "base_uri": "https://localhost:8080/"
        }
      },
      "execution_count": 32,
      "outputs": [
        {
          "output_type": "stream",
          "name": "stdout",
          "text": [
            "x and y is False\n",
            "x or y is True\n",
            "not x is False\n"
          ]
        }
      ]
    },
    {
      "cell_type": "code",
      "source": [
        "x = 10\n",
        "y = 12\n",
        "print('x > y is', x>y)\n",
        "print('x < y  is',x<y)\n",
        "print('x == y is',x==y)\n",
        "print('x != y is',x!=y)\n",
        "print('x >= y is',x>=y)\n",
        "print('x <= y is',x<=y)"
      ],
      "metadata": {
        "id": "RyeqKntJh0mq",
        "outputId": "5a5b46a4-f07f-4a30-b5f5-4669a3e300dd",
        "colab": {
          "base_uri": "https://localhost:8080/"
        }
      },
      "execution_count": 33,
      "outputs": [
        {
          "output_type": "stream",
          "name": "stdout",
          "text": [
            "x > y is False\n",
            "x < y  is True\n",
            "x == y is False\n",
            "x != y is True\n",
            "x >= y is False\n",
            "x <= y is True\n"
          ]
        }
      ]
    },
    {
      "cell_type": "code",
      "source": [
        "x = 15\n",
        "y = 5\n",
        "print('x + y =',x+y)\n",
        "print('x - y =',x-y)\n",
        "print('x * y =',x*y)\n",
        "print('x / y =',x/y)\n",
        "print('x // y =',x//y)\n",
        "print('x ** y =',x**y)"
      ],
      "metadata": {
        "id": "XVua2uYah5-a",
        "outputId": "57c1fed3-49a5-4bf6-855e-b39cbb5d8172",
        "colab": {
          "base_uri": "https://localhost:8080/"
        }
      },
      "execution_count": 34,
      "outputs": [
        {
          "output_type": "stream",
          "name": "stdout",
          "text": [
            "x + y = 20\n",
            "x - y = 10\n",
            "x * y = 75\n",
            "x / y = 3.0\n",
            "x // y = 3\n",
            "x ** y = 759375\n"
          ]
        }
      ]
    },
    {
      "cell_type": "code",
      "source": [
        "colors = ['red','blue','green']\n",
        "print(colors)"
      ],
      "metadata": {
        "id": "zIcTGN9miwgU",
        "outputId": "b76a8fa5-ff7a-488b-9e17-658a16b78dee",
        "colab": {
          "base_uri": "https://localhost:8080/"
        }
      },
      "execution_count": 37,
      "outputs": [
        {
          "output_type": "stream",
          "name": "stdout",
          "text": [
            "['red', 'blue', 'green']\n"
          ]
        }
      ]
    },
    {
      "cell_type": "code",
      "source": [
        "num1=int(input(\"Enter First number\"))\n",
        "num2=int(input(\"Enter Second number\"))\n",
        "SumValue = (num1 - num2)\n",
        "print(\"The Sum of the given numbers is \",SumValue)"
      ],
      "metadata": {
        "id": "IMrWeYs5iyoz",
        "outputId": "0bc78a24-577b-48ae-bcd7-74618434aa9e",
        "colab": {
          "base_uri": "https://localhost:8080/"
        }
      },
      "execution_count": 38,
      "outputs": [
        {
          "output_type": "stream",
          "name": "stdout",
          "text": [
            "Enter First number45\n",
            "Enter Second number50\n",
            "The Sum of the given numbers is  -5\n"
          ]
        }
      ]
    }
  ]
}