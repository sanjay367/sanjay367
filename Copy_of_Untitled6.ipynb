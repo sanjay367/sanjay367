{
  "nbformat": 4,
  "nbformat_minor": 0,
  "metadata": {
    "colab": {
      "name": "Copy of Untitled6.ipynb",
      "provenance": [],
      "authorship_tag": "ABX9TyPAVNzhAa7iVglQeIm3zOtQ",
      "include_colab_link": true
    },
    "kernelspec": {
      "name": "python3",
      "display_name": "Python 3"
    },
    "language_info": {
      "name": "python"
    }
  },
  "cells": [
    {
      "cell_type": "markdown",
      "metadata": {
        "id": "view-in-github",
        "colab_type": "text"
      },
      "source": [
        "<a href=\"https://colab.research.google.com/github/sanjay367/sanjay367/blob/main/Copy_of_Untitled6.ipynb\" target=\"_parent\"><img src=\"https://colab.research.google.com/assets/colab-badge.svg\" alt=\"Open In Colab\"/></a>"
      ]
    },
    {
      "cell_type": "code",
      "execution_count": null,
      "metadata": {
        "colab": {
          "base_uri": "https://localhost:8080/"
        },
        "id": "2O1JOMMI-zb3",
        "outputId": "ae8c3433-a5a2-439a-a315-092b34de3af4"
      },
      "outputs": [
        {
          "output_type": "stream",
          "name": "stdout",
          "text": [
            "Choice 1:Add,2:Sub,3:Div,4:Mul,5:Quit\n",
            "Enter the choice of operation :3\n",
            "You have chosen division option:\n",
            "Enter the value for A:38\n",
            "Enter the value for B:97\n",
            "THe result 38 / 97 = 0.3917525773195876\n"
          ]
        }
      ],
      "source": [
        "print(\"Choice 1:Add,2:Sub,3:Div,4:Mul,5:Quit\")\n",
        "n1 = input(\"Enter the choice of operation :\")\n",
        "n =int(n1)\n",
        "if(n==1):\n",
        "   print(\"You have chosen addition option:\")\n",
        "   a1=input(\"Enter the value for A:\")\n",
        "   b1=input(\"Enter the value for B:\")\n",
        "   a=int(a1)\n",
        "   b=int(b1)\n",
        "   c=a+b\n",
        "   print(\"The result\",a,\"+\",b,\"=\",c)\n",
        "elif (n==2):\n",
        "   print(\"You have chosen subtraction option:\")\n",
        "   a1=input(\"Enter the value for A:\")\n",
        "   b1=input(\"Enter the value for B:\")\n",
        "   a=int(a1)\n",
        "   b=int(b1)\n",
        "   c=a-b\n",
        "   print(\"The Result\",a,\"-\",b,\"=\",c)\n",
        "elif (n==3):\n",
        "   print(\"You have chosen division option:\")\n",
        "   a1=input (\"Enter the value for A:\")\n",
        "   b1=input (\"Enter the value for B:\")\n",
        "   a=int(a1)\n",
        "   b=int(b1)\n",
        "   c=a/b\n",
        "   print(\"THe result\",a,\"/\",b,\"=\",c)\n",
        "elif (n==4):  \n",
        "   print(\"You have chosen division option:\")\n",
        "   a1=input(\"Enter the value for A:\")\n",
        "   b1=input(\"Enter the value for B:\")\n",
        "   a=int(a1)\n",
        "   b=int(b1)\n",
        "   c=a*b\n",
        "   print(\"The result\",a,\"*\",b,\"=\",c)\n",
        "elif  (n==5):\n",
        "  print(\"You have given a wrong:\",n)\n",
        "  exit()"
      ]
    }
  ]
}