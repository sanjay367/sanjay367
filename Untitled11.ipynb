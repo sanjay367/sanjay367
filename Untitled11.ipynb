{
  "nbformat": 4,
  "nbformat_minor": 0,
  "metadata": {
    "colab": {
      "name": "Untitled11.ipynb",
      "provenance": [],
      "authorship_tag": "ABX9TyOHaaB//rk6+s27mna77USh",
      "include_colab_link": true
    },
    "kernelspec": {
      "name": "python3",
      "display_name": "Python 3"
    },
    "language_info": {
      "name": "python"
    }
  },
  "cells": [
    {
      "cell_type": "markdown",
      "metadata": {
        "id": "view-in-github",
        "colab_type": "text"
      },
      "source": [
        "<a href=\"https://colab.research.google.com/github/sanjay367/sanjay367/blob/main/Untitled11.ipynb\" target=\"_parent\"><img src=\"https://colab.research.google.com/assets/colab-badge.svg\" alt=\"Open In Colab\"/></a>"
      ]
    },
    {
      "cell_type": "code",
      "execution_count": 1,
      "metadata": {
        "colab": {
          "base_uri": "https://localhost:8080/"
        },
        "id": "d39mA8uVmbxw",
        "outputId": "4f81e247-59ee-42d3-c34d-bab7b85275ad"
      },
      "outputs": [
        {
          "output_type": "stream",
          "name": "stdout",
          "text": [
            "enter your age:20\n",
            "you are eligible to vote\n"
          ]
        }
      ],
      "source": [
        "#if else statement\n",
        "age=int(input('enter your age:'))\n",
        "if age>=18:\n",
        "  print('you are eligible to vote')\n",
        "else:\n",
        "  print('you are illegible to vote')"
      ]
    },
    {
      "cell_type": "code",
      "source": [
        "#elif statement\n",
        "value = eval(input('please enter any input from 0 to 3:'))\n",
        "if value<0:\n",
        "  print('too small')\n",
        "elif value==0:\n",
        "  print('null')\n",
        "elif value==1:\n",
        "  print('one')\n",
        "elif value==2:\n",
        "  print('two')\n",
        "elif value==3:\n",
        "  print('three')\n",
        "else:\n",
        "  print('too large')\n",
        "print('done')"
      ],
      "metadata": {
        "colab": {
          "base_uri": "https://localhost:8080/"
        },
        "id": "6kV11SuomsvS",
        "outputId": "598385bf-55a5-4c4b-9222-6d059c88d06f"
      },
      "execution_count": 2,
      "outputs": [
        {
          "output_type": "stream",
          "name": "stdout",
          "text": [
            "please enter any input from 0 to 3:2\n",
            "two\n",
            "done\n"
          ]
        }
      ]
    },
    {
      "cell_type": "code",
      "source": [
        "#nested if statement\n",
        "value = eval(input('please enter any integer from 0 to 10:'))\n",
        "if value>=0:\n",
        "  if value<=10:\n",
        "    print('the given number is in range')"
      ],
      "metadata": {
        "colab": {
          "base_uri": "https://localhost:8080/"
        },
        "id": "7xtarglNmyMj",
        "outputId": "354b7b7b-ed2a-40a5-92f4-e6f6a7807d84"
      },
      "execution_count": 3,
      "outputs": [
        {
          "output_type": "stream",
          "name": "stdout",
          "text": [
            "please enter any integer from 0 to 10:5\n",
            "the given number is in range\n"
          ]
        }
      ]
    },
    {
      "cell_type": "code",
      "source": [
        "#nested if statement using if else\n",
        "value =eval(input('please enter any integer from0 to 20:'))\n",
        "if value>=0:\n",
        "  if value<=20:\n",
        "    print('the number is in range')\n",
        "  else:\n",
        "    print('the number is too large')\n",
        "else:\n",
        "  print('the number is too small')"
      ],
      "metadata": {
        "colab": {
          "base_uri": "https://localhost:8080/"
        },
        "id": "hvq0brM_m6dN",
        "outputId": "cf39e202-3b11-4aed-e3e2-074ff1d6b5b2"
      },
      "execution_count": 4,
      "outputs": [
        {
          "output_type": "stream",
          "name": "stdout",
          "text": [
            "please enter any integer from0 to 20:16\n",
            "the number is in range\n"
          ]
        }
      ]
    },
    {
      "cell_type": "code",
      "source": [
        "#while statement\n",
        "entry=0\n",
        "sum=0\n",
        "print('enter the numbers to positive,negative numbers end list')\n",
        "while entry>=0:\n",
        "  entry=eval(input())\n",
        "  if entry>=0:\n",
        "    sum += entry \n",
        "print('sum= ',sum)"
      ],
      "metadata": {
        "colab": {
          "base_uri": "https://localhost:8080/"
        },
        "id": "VC2iq_Y5nAx3",
        "outputId": "4c0faa6f-c31b-4994-cfb0-3b998f9c5f87"
      },
      "execution_count": 5,
      "outputs": [
        {
          "output_type": "stream",
          "name": "stdout",
          "text": [
            "enter the numbers to positive,negative numbers end list\n",
            "-6\n",
            "sum=  0\n"
          ]
        }
      ]
    },
    {
      "cell_type": "code",
      "source": [
        "#indefinite loop\n",
        "done = False\n",
        "while not done:\n",
        "  entry = eval(input())\n",
        "  if entry==888:\n",
        "    done = True \n",
        "  else:\n",
        "    print(entry)"
      ],
      "metadata": {
        "colab": {
          "base_uri": "https://localhost:8080/"
        },
        "id": "h10I56iknxMN",
        "outputId": "cf35b1b2-b9f2-42f0-fb4c-a5cbfda13cfe"
      },
      "execution_count": 7,
      "outputs": [
        {
          "name": "stdout",
          "output_type": "stream",
          "text": [
            "888\n"
          ]
        }
      ]
    },
    {
      "cell_type": "code",
      "source": [
        "#infinite loop\n",
        "max=20\n",
        "n=1\n",
        "while n<=max:\n",
        "  factor=1\n",
        "  print(end=str(n) +': ')\n",
        "  while factor<=n:\n",
        "    if n % factor == 0:\n",
        "      print(factor, end=' ')\n",
        "      factor += 1\n",
        "  print()\n",
        "  n += 1"
      ],
      "metadata": {
        "colab": {
          "base_uri": "https://localhost:8080/"
        },
        "id": "JuiB7Vwkn4kf",
        "outputId": "a22c873b-8891-4729-e46e-3055426bbfd3"
      },
      "execution_count": null,
      "outputs": [
        {
          "output_type": "stream",
          "name": "stdout",
          "text": [
            "1: 1 \n",
            "2: 1 2 \n",
            "3: 1 "
          ]
        }
      ]
    }
  ]
}